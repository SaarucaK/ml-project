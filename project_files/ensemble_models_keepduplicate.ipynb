{
 "cells": [
  {
   "cell_type": "code",
   "execution_count": 1,
   "id": "3e0c2f77",
   "metadata": {},
   "outputs": [],
   "source": [
    "#imports\n",
    "import matplotlib.pyplot as plt\n",
    "import seaborn as sns\n",
    "\n",
    "import keras\n",
    "from keras.models import Sequential\n",
    "from keras.layers import Dense, Conv2D , MaxPool2D , Flatten , Dropout \n",
    "from keras.preprocessing.image import ImageDataGenerator\n",
    "from keras.optimizers import Adam\n",
    "\n",
    "from sklearn.metrics import classification_report,confusion_matrix\n",
    "\n",
    "import tensorflow as tf\n",
    "\n",
    "import cv2\n",
    "import os\n",
    "#os.sys.path\n",
    "\n",
    "import numpy as np\n",
    "\n",
    "\n",
    "import matplotlib.pyplot as plt\n",
    "import numpy as np\n",
    "import PIL\n",
    "import tensorflow as tf\n",
    "\n",
    "from tensorflow import keras\n",
    "from tensorflow.keras import layers\n",
    "from tensorflow.keras.models import Sequential\n",
    "import pathlib\n",
    "import glob\n",
    "from PIL import Image\n",
    "import pandas as pd\n",
    "from sklearn.utils import shuffle\n",
    "from sklearn.preprocessing import LabelEncoder\n",
    "\n",
    "from numpy import random\n",
    "from sklearn.model_selection import train_test_split\n",
    "import sys\n",
    "\n",
    "from sklearn.ensemble import RandomForestClassifier\n",
    "from sklearn.metrics import accuracy_score, confusion_matrix, precision_score, recall_score, ConfusionMatrixDisplay\n",
    "from sklearn.model_selection import RandomizedSearchCV, train_test_split\n",
    "from scipy.stats import randint\n",
    "\n",
    "# Tree Visualisation\n",
    "from sklearn import tree\n",
    "from sklearn.tree import export_graphviz\n",
    "from IPython.display import Image\n",
    "from graphviz import Digraph\n",
    "\n",
    "from mpl_toolkits.mplot3d import Axes3D\n",
    "from sklearn.preprocessing import StandardScaler\n",
    "import seaborn as sns\n",
    "\n",
    "from sklearn.model_selection import cross_val_score\n",
    "from sklearn.model_selection import cross_val_predict\n",
    "\n",
    "from sklearn.linear_model import LogisticRegression\n",
    "\n",
    "from sklearn.naive_bayes import GaussianNB\n",
    "from sklearn.naive_bayes import BernoulliNB\n",
    "from sklearn.naive_bayes import CategoricalNB\n",
    "\n",
    "from sklearn.neighbors import KNeighborsClassifier\n",
    "from sklearn.metrics import mean_squared_error\n",
    "from math import sqrt\n",
    "\n",
    "from sklearn.neighbors import RadiusNeighborsClassifier\n",
    "\n",
    "from sklearn.svm import SVC\n",
    "\n",
    "from sklearn.ensemble import VotingClassifier"
   ]
  },
  {
   "cell_type": "code",
   "execution_count": 2,
   "id": "9a5bc5ab",
   "metadata": {},
   "outputs": [],
   "source": [
    "#read training and test data\n",
    "trainset = pd.read_csv(\"Training.csv\")\n",
    "testset = pd.read_csv(\"Testing.csv\")"
   ]
  },
  {
   "cell_type": "code",
   "execution_count": 3,
   "id": "516a3de0",
   "metadata": {},
   "outputs": [],
   "source": [
    "#label encoder to assign numeric values to prognosis column \n",
    "le = LabelEncoder()\n",
    "trainset['prognosis_encoded'] = le.fit_transform(trainset.prognosis)\n",
    "y = trainset['prognosis_encoded'].values\n",
    "x = trainset.drop(columns=['prognosis_encoded', 'prognosis']).values"
   ]
  },
  {
   "cell_type": "code",
   "execution_count": 4,
   "id": "ce879307",
   "metadata": {},
   "outputs": [],
   "source": [
    "#seperate train and validation data\n",
    "x_train,x_val,y_train,y_val = train_test_split(x,y,test_size = 0.2,stratify = y,random_state = 45)"
   ]
  },
  {
   "cell_type": "code",
   "execution_count": 5,
   "id": "ebdf4518",
   "metadata": {},
   "outputs": [
    {
     "name": "stdout",
     "output_type": "stream",
     "text": [
      "[[1 3 4 ... 0 0 0]\n",
      " [0 3 4 ... 0 0 0]\n",
      " [1 0 4 ... 0 0 0]\n",
      " ...\n",
      " [0 0 0 ... 0 0 0]\n",
      " [0 3 0 ... 0 0 0]\n",
      " [0 3 0 ... 4 2 3]]\n"
     ]
    }
   ],
   "source": [
    "#view training dataset\n",
    "print(x)"
   ]
  },
  {
   "cell_type": "code",
   "execution_count": 6,
   "id": "85db4f96",
   "metadata": {},
   "outputs": [],
   "source": [
    "#label encoder to assign numeric values to prognosis column for testset\n",
    "testset['prognosis_encoded'] = le.fit_transform(testset.prognosis)\n",
    "target = testset['prognosis']\n",
    "y_test = testset['prognosis_encoded'].values\n",
    "x_test = testset.drop(columns=['prognosis_encoded', 'prognosis']).values"
   ]
  },
  {
   "cell_type": "code",
   "execution_count": 7,
   "id": "1038d811",
   "metadata": {},
   "outputs": [
    {
     "name": "stdout",
     "output_type": "stream",
     "text": [
      "val score:  1.0\n",
      "cross val score [1. 1. 1. 1. 1.]\n"
     ]
    }
   ],
   "source": [
    "#logistic regression model\n",
    "model = LogisticRegression(random_state=42, C=0.1, solver='saga', penalty='l2', multi_class='multinomial', max_iter = 10000)\n",
    "model.fit(x_train,y_train)\n",
    "\n",
    "#prediction on validation data\n",
    "y_pred = model.predict(x_val)\n",
    "\n",
    "#accuracy score of prediction\n",
    "acc_score = accuracy_score(y_val, y_pred)\n",
    "print(\"val score: \",acc_score)\n",
    "\n",
    "#cross validation score on full training dataset\n",
    "scores = cross_val_score(model, x, y, cv=5, n_jobs=1)\n",
    "print(\"cross val score\",scores)"
   ]
  },
  {
   "cell_type": "code",
   "execution_count": 8,
   "id": "94f38ad6",
   "metadata": {},
   "outputs": [
    {
     "name": "stdout",
     "output_type": "stream",
     "text": [
      "val score:  1.0\n",
      "cross val score [1. 1. 1. 1. 1.]\n"
     ]
    }
   ],
   "source": [
    "#DISCARDED MODEL\n",
    "#gaussian naive bayesian network model\n",
    "nbn = GaussianNB()\n",
    "nbn.fit(x_train, y_train)\n",
    "\n",
    "#prediction on validation data\n",
    "y_pred  =  nbn.predict(x_val)\n",
    "\n",
    "#accuracy score of prediction\n",
    "acc_score = accuracy_score(y_val, y_pred)\n",
    "print(\"val score: \",acc_score)\n",
    "\n",
    "#cross validation score on full training dataset\n",
    "scores = cross_val_score(nbn, x, y, cv=5, n_jobs=1)\n",
    "print(\"cross val score\",scores)"
   ]
  },
  {
   "cell_type": "code",
   "execution_count": 9,
   "id": "43ebbde1",
   "metadata": {},
   "outputs": [
    {
     "name": "stdout",
     "output_type": "stream",
     "text": [
      "val score:  1.0\n",
      "cross val score [1. 1. 1. 1. 1.]\n"
     ]
    }
   ],
   "source": [
    "#categorical naive bayesian network model\n",
    "cbn = CategoricalNB(alpha=0.3)\n",
    "cbn.fit(x_train, y_train)\n",
    "\n",
    "#prediction on validation data\n",
    "y_pred  =  cbn.predict(x_val)\n",
    "\n",
    "#accuracy score of prediction\n",
    "acc_score = accuracy_score(y_val, y_pred)\n",
    "print(\"val score: \",acc_score)\n",
    "\n",
    "#cross validation score on full training dataset\n",
    "scores = cross_val_score(cbn, x, y, cv=5, n_jobs=1)\n",
    "print(\"cross val score\",scores)"
   ]
  },
  {
   "cell_type": "code",
   "execution_count": 11,
   "id": "cc0af7f1",
   "metadata": {},
   "outputs": [
    {
     "name": "stdout",
     "output_type": "stream",
     "text": [
      "val score:  1.0\n",
      "cross val score [1. 1. 1. 1. 1.]\n"
     ]
    }
   ],
   "source": [
    "#k nearest neighbours classifier model\n",
    "knn_model = KNeighborsClassifier(n_neighbors=10, p=1, algorithm='ball_tree')\n",
    "knn_model.fit(x_train, y_train)\n",
    "\n",
    "#prediction on validation data\n",
    "y_pred  =  knn_model.predict(x_val)\n",
    "\n",
    "#accuracy score of prediction\n",
    "acc_score = accuracy_score(y_val, y_pred)\n",
    "print(\"val score: \",acc_score)\n",
    "\n",
    "#cross validation score on full training dataset\n",
    "scores = cross_val_score(knn_model, x, y, cv=5, n_jobs=1)\n",
    "print(\"cross val score\",scores)"
   ]
  },
  {
   "cell_type": "code",
   "execution_count": 12,
   "id": "abc19188",
   "metadata": {},
   "outputs": [
    {
     "name": "stdout",
     "output_type": "stream",
     "text": [
      "val score:  1.0\n",
      "cross val score [1. 1. 1. 1. 1.]\n"
     ]
    }
   ],
   "source": [
    "#SVM soft margin classifier model\n",
    "svm = SVC(kernel='poly', degree=2, coef0=5, C=5)\n",
    "svm.fit(x_train, y_train)\n",
    "\n",
    "#prediction on validation data\n",
    "y_pred  =  svm.predict(x_val)\n",
    "\n",
    "#accuracy score of prediction\n",
    "acc_score = accuracy_score(y_val, y_pred)\n",
    "print(\"val score: \",acc_score)\n",
    "\n",
    "#cross validation score on full training dataset\n",
    "scores = cross_val_score(svm, x, y, cv=5, n_jobs=1)\n",
    "print(\"cross val score\",scores)"
   ]
  },
  {
   "cell_type": "code",
   "execution_count": 13,
   "id": "c4c75b9f",
   "metadata": {},
   "outputs": [
    {
     "name": "stdout",
     "output_type": "stream",
     "text": [
      "Accuracy: 1.0\n",
      "{'bootstrap': True, 'ccp_alpha': 0.0, 'class_weight': None, 'criterion': 'gini', 'max_depth': None, 'max_features': 'auto', 'max_leaf_nodes': None, 'max_samples': None, 'min_impurity_decrease': 0.0, 'min_samples_leaf': 1, 'min_samples_split': 2, 'min_weight_fraction_leaf': 0.0, 'n_estimators': 100, 'n_jobs': None, 'oob_score': False, 'random_state': None, 'verbose': 0, 'warm_start': False}\n",
      "Best hyperparameters: {'max_depth': 8, 'n_estimators': 18}\n",
      "Best estimator: RandomForestClassifier(max_depth=8, n_estimators=18)\n"
     ]
    }
   ],
   "source": [
    "#random forest classifier model\n",
    "randomforest = RandomForestClassifier()\n",
    "randomforest.fit(x_train, y_train)\n",
    "\n",
    "#predict validation set\n",
    "y_pred = randomforest.predict(x_val)\n",
    "acc_score = accuracy_score(y_val, y_pred)\n",
    "print(\"Accuracy:\", acc_score)\n",
    "print(randomforest.get_params())\n",
    "\n",
    "#random search cv to find optimal parameters for random forest\n",
    "param_dist = {'n_estimators': randint(1,20),\n",
    "              'max_depth': randint(1,10)}\n",
    "rand_search = RandomizedSearchCV(estimator = randomforest, \n",
    "                                 param_distributions = param_dist, \n",
    "                                 n_iter=20, \n",
    "                                 cv=5)\n",
    "rand_search.fit(x_train, y_train)\n",
    "\n",
    "#get parameters\n",
    "best_rf = rand_search.best_estimator_\n",
    "print('Best hyperparameters:',  rand_search.best_params_)\n",
    "print('Best estimator:',  rand_search.best_estimator_)"
   ]
  },
  {
   "cell_type": "code",
   "execution_count": 14,
   "id": "e46d8f2d",
   "metadata": {},
   "outputs": [
    {
     "name": "stdout",
     "output_type": "stream",
     "text": [
      "val score:  0.9796747967479674\n",
      "cross val score:  [0.99695122 0.96341463 1.         1.         1.        ]\n",
      "test set score:  1.0\n"
     ]
    }
   ],
   "source": [
    "#random forest classifier model\n",
    "rf = RandomForestClassifier(n_estimators=20, max_depth=9)\n",
    "rf.fit(x_train, y_train)\n",
    "\n",
    "#prediction on validation data\n",
    "y_pred  =  rf.predict(x_val)\n",
    "\n",
    "#accuracy score of prediction\n",
    "acc_score = accuracy_score(y_val, y_pred)\n",
    "print(\"val score: \",acc_score)\n",
    "\n",
    "#cross validation score on full training dataset\n",
    "scores = cross_val_score(rf, x, y, cv=5, n_jobs=1)\n",
    "print(\"cross val score: \",scores)\n",
    "\n",
    "#accuracy score of prediction on testset\n",
    "y_pred_test  =  rf.predict(x_test)\n",
    "acc_score = accuracy_score(y_test, y_pred_test)\n",
    "print(\"test set score: \",acc_score)"
   ]
  },
  {
   "cell_type": "code",
   "execution_count": 15,
   "id": "53f226ba",
   "metadata": {},
   "outputs": [
    {
     "name": "stdout",
     "output_type": "stream",
     "text": [
      "val score:  1.0\n",
      "cross val score:  [1. 1. 1. 1. 1.]\n",
      "test set score:  1.0\n"
     ]
    }
   ],
   "source": [
    "#voting classifier model\n",
    "vc = VotingClassifier(estimators=[('lr',LogisticRegression(random_state=42, C=0.1, solver='saga', penalty='l2', multi_class='multinomial', max_iter = 1000)),\n",
    "                                ('svm',SVC(kernel='poly', degree=2, coef0=5, C=5)),\n",
    "                                ('rfc',RandomForestClassifier(n_estimators=20, max_depth=9)),\n",
    "                                ('kkn',KNeighborsClassifier(n_neighbors=10, p=1, algorithm='ball_tree')),\n",
    "                                ('cbn',CategoricalNB(alpha=0.3))\n",
    "                               ]\n",
    "                    )\n",
    "vc.fit(x_train,y_train)\n",
    "\n",
    "#prediction on validation data\n",
    "y_pred  =  vc.predict(x_val)\n",
    "\n",
    "#accuracy score of prediction\n",
    "acc_score = accuracy_score(y_val, y_pred)\n",
    "print(\"val score: \",acc_score)\n",
    "\n",
    "#cross validation score on full training dataset\n",
    "scores = cross_val_score(vc, x, y, cv=5, n_jobs=1)\n",
    "print(\"cross val score: \",scores)\n",
    "\n",
    "#accuracy score of prediction on testset\n",
    "y_pred_test  =  vc.predict(x_test)\n",
    "acc_score = accuracy_score(y_test, y_pred_test)\n",
    "print(\"test set score: \",acc_score)"
   ]
  },
  {
   "cell_type": "code",
   "execution_count": null,
   "id": "ad81e137",
   "metadata": {},
   "outputs": [],
   "source": []
  },
  {
   "cell_type": "code",
   "execution_count": null,
   "id": "d19ff41d",
   "metadata": {},
   "outputs": [],
   "source": []
  }
 ],
 "metadata": {
  "kernelspec": {
   "display_name": "Python 3 (ipykernel)",
   "language": "python",
   "name": "python3"
  },
  "language_info": {
   "codemirror_mode": {
    "name": "ipython",
    "version": 3
   },
   "file_extension": ".py",
   "mimetype": "text/x-python",
   "name": "python",
   "nbconvert_exporter": "python",
   "pygments_lexer": "ipython3",
   "version": "3.7.16"
  }
 },
 "nbformat": 4,
 "nbformat_minor": 5
}
