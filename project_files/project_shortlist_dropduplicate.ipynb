{
 "cells": [
  {
   "cell_type": "code",
   "execution_count": 1,
   "id": "6a8274eb",
   "metadata": {},
   "outputs": [],
   "source": [
    "#imports\n",
    "import matplotlib.pyplot as plt\n",
    "import cv2\n",
    "import os\n",
    "import numpy as np\n",
    "from math import sqrt\n",
    "import pandas as pd\n",
    "\n",
    "from sklearn.utils import shuffle\n",
    "from sklearn.preprocessing import LabelEncoder\n",
    "\n",
    "from numpy import random\n",
    "from sklearn.model_selection import train_test_split\n",
    "import sys\n",
    "\n",
    "from sklearn.ensemble import RandomForestClassifier\n",
    "from sklearn.metrics import accuracy_score, confusion_matrix, precision_score, recall_score, ConfusionMatrixDisplay\n",
    "from sklearn.model_selection import RandomizedSearchCV, train_test_split\n",
    "from scipy.stats import randint\n",
    "\n",
    "from mpl_toolkits.mplot3d import Axes3D\n",
    "from sklearn.preprocessing import StandardScaler\n",
    "\n",
    "from sklearn.model_selection import cross_val_score\n",
    "from sklearn.model_selection import cross_val_predict\n",
    "from sklearn.linear_model import LogisticRegression\n",
    "from sklearn.naive_bayes import GaussianNB\n",
    "from sklearn.naive_bayes import BernoulliNB\n",
    "from sklearn.naive_bayes import CategoricalNB\n",
    "from sklearn.neighbors import KNeighborsClassifier\n",
    "from sklearn.metrics import mean_squared_error\n",
    "from sklearn.svm import SVC\n",
    "from sklearn.ensemble import VotingClassifier"
   ]
  },
  {
   "cell_type": "code",
   "execution_count": 2,
   "id": "6a5c73e0",
   "metadata": {},
   "outputs": [],
   "source": [
    "#read training and test data\n",
    "trainset = pd.read_csv(\"Training.csv\")\n",
    "testset = pd.read_csv(\"Testing.csv\")"
   ]
  },
  {
   "cell_type": "code",
   "execution_count": 3,
   "id": "329483e5",
   "metadata": {},
   "outputs": [],
   "source": [
    "trainset = trainset.drop_duplicates() #drop duplicate rows in training set\n",
    "#label encoder to assign numeric values to prognosis column \n",
    "le = LabelEncoder()\n",
    "trainset['prognosis_encoded'] = le.fit_transform(trainset.prognosis)\n",
    "y = trainset['prognosis_encoded'].values\n",
    "x = trainset.drop(columns=['prognosis_encoded', 'prognosis']).values"
   ]
  },
  {
   "cell_type": "code",
   "execution_count": 4,
   "id": "eeceb419",
   "metadata": {},
   "outputs": [],
   "source": [
    "#seperate train and validation data\n",
    "x_train,x_val,y_train,y_val = train_test_split(x,y,test_size = 0.2,stratify = y,random_state = 45)"
   ]
  },
  {
   "cell_type": "code",
   "execution_count": 5,
   "id": "2c2c0c7a",
   "metadata": {},
   "outputs": [
    {
     "name": "stdout",
     "output_type": "stream",
     "text": [
      "[[1 3 4 ... 0 0 0]\n",
      " [0 3 4 ... 0 0 0]\n",
      " [1 0 4 ... 0 0 0]\n",
      " ...\n",
      " [0 3 0 ... 0 2 3]\n",
      " [0 3 0 ... 4 0 3]\n",
      " [0 3 0 ... 4 2 0]]\n"
     ]
    }
   ],
   "source": [
    "#view training dataset\n",
    "print(x)"
   ]
  },
  {
   "cell_type": "code",
   "execution_count": 6,
   "id": "2713da1f",
   "metadata": {},
   "outputs": [],
   "source": [
    "#label encoder to assign numeric values to prognosis column for testset\n",
    "testset['prognosis_encoded'] = le.fit_transform(testset.prognosis)\n",
    "target = testset['prognosis']\n",
    "y_test = testset['prognosis_encoded'].values\n",
    "x_test = testset.drop(columns=['prognosis_encoded', 'prognosis']).values"
   ]
  },
  {
   "cell_type": "code",
   "execution_count": 7,
   "id": "3a2465cb",
   "metadata": {},
   "outputs": [
    {
     "name": "stdout",
     "output_type": "stream",
     "text": [
      "val score:  1.0\n",
      "cross val score [1.         1.         1.         1.         0.98333333]\n"
     ]
    }
   ],
   "source": [
    "#logistic regression model\n",
    "model = LogisticRegression(random_state=42, C=0.1, solver='saga', penalty='l2', multi_class='multinomial', max_iter = 10000)\n",
    "model.fit(x_train,y_train)\n",
    "\n",
    "#prediction on validation data\n",
    "y_pred = model.predict(x_val)\n",
    "\n",
    "#accuracy score of prediction\n",
    "acc_score = accuracy_score(y_val, y_pred)\n",
    "print(\"val score: \",acc_score)\n",
    "\n",
    "#cross validation score on full training dataset\n",
    "scores = cross_val_score(model, x, y, cv=5, n_jobs=1)\n",
    "print(\"cross val score\",scores)"
   ]
  },
  {
   "cell_type": "code",
   "execution_count": 8,
   "id": "ebdf3a8f",
   "metadata": {},
   "outputs": [
    {
     "name": "stdout",
     "output_type": "stream",
     "text": [
      "val score:  0.9672131147540983\n",
      "cross val score [0.98360656 0.96721311 0.93442623 0.96721311 0.91666667]\n"
     ]
    }
   ],
   "source": [
    "#DISCARDED MODEL\n",
    "#gaussian naive bayesian network model\n",
    "nbn = GaussianNB()\n",
    "nbn.fit(x_train, y_train)\n",
    "\n",
    "#prediction on validation data\n",
    "y_pred  =  nbn.predict(x_val)\n",
    "\n",
    "#accuracy score of prediction\n",
    "acc_score = accuracy_score(y_val, y_pred)\n",
    "print(\"val score: \",acc_score)\n",
    "\n",
    "#cross validation score on full training dataset\n",
    "scores = cross_val_score(nbn, x, y, cv=5, n_jobs=1)\n",
    "print(\"cross val score\",scores)"
   ]
  },
  {
   "cell_type": "code",
   "execution_count": 9,
   "id": "ba2ece01",
   "metadata": {},
   "outputs": [
    {
     "name": "stdout",
     "output_type": "stream",
     "text": [
      "val score:  0.9672131147540983\n",
      "cross val score [1.         0.98360656 0.98360656 0.91803279 0.93333333]\n"
     ]
    }
   ],
   "source": [
    "#categorical naive bayesian network model\n",
    "cbn = CategoricalNB(alpha=0.3)\n",
    "cbn.fit(x_train, y_train)\n",
    "\n",
    "#prediction on validation data\n",
    "y_pred  =  cbn.predict(x_val)\n",
    "\n",
    "#accuracy score of prediction\n",
    "acc_score = accuracy_score(y_val, y_pred)\n",
    "print(\"val score: \",acc_score)\n",
    "\n",
    "#cross validation score on full training dataset\n",
    "scores = cross_val_score(cbn, x, y, cv=5, n_jobs=1)\n",
    "print(\"cross val score\",scores)"
   ]
  },
  {
   "cell_type": "code",
   "execution_count": 10,
   "id": "96a21b66",
   "metadata": {},
   "outputs": [
    {
     "name": "stdout",
     "output_type": "stream",
     "text": [
      "val score:  1.0\n",
      "cross val score [1. 1. 1. 1. 1.]\n"
     ]
    }
   ],
   "source": [
    "#DISCARDED MODEL\n",
    "#bernoulli naive bayesian network model\n",
    "bbn = BernoulliNB(alpha=0.1, binarize=0)\n",
    "bbn.fit(x_train, y_train)\n",
    "\n",
    "#prediction on validation data\n",
    "y_pred  =  bbn.predict(x_val)\n",
    "\n",
    "#accuracy score of prediction\n",
    "acc_score = accuracy_score(y_val, y_pred)\n",
    "print(\"val score: \",acc_score)\n",
    "\n",
    "#cross validation score on full training dataset\n",
    "scores = cross_val_score(bbn, x, y, cv=5, n_jobs=1)\n",
    "print(\"cross val score\",scores)"
   ]
  },
  {
   "cell_type": "code",
   "execution_count": 11,
   "id": "ebcd9083",
   "metadata": {},
   "outputs": [
    {
     "name": "stdout",
     "output_type": "stream",
     "text": [
      "val score:  0.9672131147540983\n",
      "cross val score [0.95081967 0.86885246 0.95081967 0.91803279 0.95      ]\n"
     ]
    }
   ],
   "source": [
    "#k nearest neighbours classifier model\n",
    "knn_model = KNeighborsClassifier(n_neighbors=10, p=1, algorithm='ball_tree')\n",
    "knn_model.fit(x_train, y_train)\n",
    "\n",
    "#prediction on validation data\n",
    "y_pred  =  knn_model.predict(x_val)\n",
    "\n",
    "#accuracy score of prediction\n",
    "acc_score = accuracy_score(y_val, y_pred)\n",
    "print(\"val score: \",acc_score)\n",
    "\n",
    "#cross validation score on full training dataset\n",
    "scores = cross_val_score(knn_model, x, y, cv=5, n_jobs=1)\n",
    "print(\"cross val score\",scores)"
   ]
  },
  {
   "cell_type": "code",
   "execution_count": 12,
   "id": "a58140a1",
   "metadata": {},
   "outputs": [
    {
     "name": "stdout",
     "output_type": "stream",
     "text": [
      "val score:  0.9672131147540983\n",
      "cross val score [1.         0.96721311 0.95081967 0.98360656 0.91666667]\n"
     ]
    }
   ],
   "source": [
    "#SVM soft margin classifier model\n",
    "svm = SVC(kernel='poly', degree=2, coef0=5, C=5)\n",
    "svm.fit(x_train, y_train)\n",
    "\n",
    "#prediction on validation data\n",
    "y_pred  =  svm.predict(x_val)\n",
    "\n",
    "#accuracy score of prediction\n",
    "acc_score = accuracy_score(y_val, y_pred)\n",
    "print(\"val score: \",acc_score)\n",
    "\n",
    "#cross validation score on full training dataset\n",
    "scores = cross_val_score(svm, x, y, cv=5, n_jobs=1)\n",
    "print(\"cross val score\",scores)"
   ]
  },
  {
   "cell_type": "code",
   "execution_count": 14,
   "id": "55646277",
   "metadata": {},
   "outputs": [
    {
     "name": "stdout",
     "output_type": "stream",
     "text": [
      "val score:  0.9180327868852459\n",
      "cross val score:  [0.91803279 0.93442623 0.83606557 0.93442623 0.85      ]\n",
      "test set score:  0.926829268292683\n"
     ]
    }
   ],
   "source": [
    "#random forest classifier model\n",
    "rf = RandomForestClassifier(n_estimators=20, max_depth=9)\n",
    "rf.fit(x_train, y_train)\n",
    "\n",
    "#prediction on validation data\n",
    "y_pred  =  rf.predict(x_val)\n",
    "\n",
    "#accuracy score of prediction\n",
    "acc_score = accuracy_score(y_val, y_pred)\n",
    "print(\"val score: \",acc_score)\n",
    "\n",
    "#cross validation score on full training dataset\n",
    "scores = cross_val_score(rf, x, y, cv=5, n_jobs=1)\n",
    "print(\"cross val score: \",scores)\n",
    "\n",
    "#accuracy score of prediction on testset\n",
    "y_pred_test  =  rf.predict(x_test)\n",
    "acc_score = accuracy_score(y_test, y_pred_test)\n",
    "print(\"test set score: \",acc_score)"
   ]
  },
  {
   "cell_type": "code",
   "execution_count": 17,
   "id": "03d6564d",
   "metadata": {},
   "outputs": [
    {
     "name": "stdout",
     "output_type": "stream",
     "text": [
      "val score:  0.9836065573770492\n",
      "cross val score:  [1.         0.98360656 1.         0.98360656 0.98333333]\n",
      "test set score:  1.0\n"
     ]
    }
   ],
   "source": [
    "#voting classifier model\n",
    "vc = VotingClassifier(estimators=[('lr',LogisticRegression(random_state=42, C=0.1, solver='saga', penalty='l2', multi_class='multinomial', max_iter = 1000)),\n",
    "                                ('svm',SVC(kernel='poly', degree=2, coef0=5, C=5)),\n",
    "                                ('rfc',RandomForestClassifier(n_estimators=20, max_depth=9)),\n",
    "                                ('kkn',KNeighborsClassifier(n_neighbors=10, p=1, algorithm='ball_tree')),\n",
    "                                ('cbn',CategoricalNB(alpha=0.3))\n",
    "                               ]\n",
    "                    )\n",
    "vc.fit(x_train,y_train)\n",
    "\n",
    "#prediction on validation data\n",
    "y_pred  =  vc.predict(x_val)\n",
    "\n",
    "#accuracy score of prediction\n",
    "acc_score = accuracy_score(y_val, y_pred)\n",
    "print(\"val score: \",acc_score)\n",
    "\n",
    "#cross validation score on full training dataset\n",
    "scores = cross_val_score(vc, x, y, cv=5, n_jobs=1)\n",
    "print(\"cross val score: \",scores)\n",
    "\n",
    "#accuracy score of prediction on testset\n",
    "y_pred_test  =  vc.predict(x_test)\n",
    "acc_score = accuracy_score(y_test, y_pred_test)\n",
    "print(\"test set score: \",acc_score)"
   ]
  },
  {
   "cell_type": "code",
   "execution_count": null,
   "id": "2d0f8843",
   "metadata": {},
   "outputs": [],
   "source": []
  }
 ],
 "metadata": {
  "kernelspec": {
   "display_name": "Python 3 (ipykernel)",
   "language": "python",
   "name": "python3"
  },
  "language_info": {
   "codemirror_mode": {
    "name": "ipython",
    "version": 3
   },
   "file_extension": ".py",
   "mimetype": "text/x-python",
   "name": "python",
   "nbconvert_exporter": "python",
   "pygments_lexer": "ipython3",
   "version": "3.7.16"
  }
 },
 "nbformat": 4,
 "nbformat_minor": 5
}
